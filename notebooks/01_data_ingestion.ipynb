{
 "cells": [
  {
   "cell_type": "code",
   "execution_count": 1,
   "metadata": {},
   "outputs": [],
   "source": [
    "import os\n",
    "os.chdir(\"../\")"
   ]
  },
  {
   "cell_type": "code",
   "execution_count": 2,
   "metadata": {},
   "outputs": [],
   "source": [
    "with open(\"requirements.txt\", \"r\") as file:\n",
    "    lines=file.readlines()"
   ]
  },
  {
   "cell_type": "code",
   "execution_count": 4,
   "metadata": {},
   "outputs": [
    {
     "data": {
      "text/plain": [
       "['python-dotenv\\n',\n",
       " 'pandas\\n',\n",
       " 'numpy\\n',\n",
       " 'pymongo\\n',\n",
       " 'ipykernel\\n',\n",
       " '\\n',\n",
       " '-e .']"
      ]
     },
     "execution_count": 4,
     "metadata": {},
     "output_type": "execute_result"
    }
   ],
   "source": [
    "lines"
   ]
  },
  {
   "cell_type": "code",
   "execution_count": 6,
   "metadata": {},
   "outputs": [
    {
     "name": "stdout",
     "output_type": "stream",
     "text": [
      "['python-dotenv']\n",
      "['python-dotenv', 'pandas']\n",
      "['python-dotenv', 'pandas', 'numpy']\n",
      "['python-dotenv', 'pandas', 'numpy', 'pymongo']\n",
      "['python-dotenv', 'pandas', 'numpy', 'pymongo', 'ipykernel']\n"
     ]
    }
   ],
   "source": [
    "requirement_lst=[]\n",
    "for line in lines:\n",
    "    requirement=line.strip()\n",
    "    if requirement and requirement!= \"-e .\":\n",
    "        requirement_lst.append(requirement)\n",
    "        print(requirement_lst)"
   ]
  },
  {
   "cell_type": "code",
   "execution_count": 9,
   "metadata": {},
   "outputs": [
    {
     "name": "stdout",
     "output_type": "stream",
     "text": [
      "['python-dotenv', 'pandas', 'numpy', 'pymongo', 'ipykernel']\n"
     ]
    }
   ],
   "source": [
    "from setuptools import find_packages, setup\n",
    "from typing import List\n",
    "\n",
    "def get_requirements()->List[str]:\n",
    "\n",
    "    requirement_lst:List[str]=[]\n",
    "    try:\n",
    "        with open(\"requirements.txt\", \"r\") as file:\n",
    "            lines=file.readlines()\n",
    "            for line in lines:\n",
    "                requirement=line.strip()\n",
    "                if requirement and requirement!= \"-e .\":\n",
    "                    requirement_lst.append(requirement)\n",
    "\n",
    "    except FileNotFoundError:\n",
    "        print(\"requirements.txt file not found\")\n",
    "\n",
    "    return requirement_lst\n",
    "\n",
    "print(get_requirements())"
   ]
  },
  {
   "cell_type": "code",
   "execution_count": null,
   "metadata": {},
   "outputs": [],
   "source": []
  }
 ],
 "metadata": {
  "kernelspec": {
   "display_name": "Python 3",
   "language": "python",
   "name": "python3"
  },
  "language_info": {
   "codemirror_mode": {
    "name": "ipython",
    "version": 3
   },
   "file_extension": ".py",
   "mimetype": "text/x-python",
   "name": "python",
   "nbconvert_exporter": "python",
   "pygments_lexer": "ipython3",
   "version": "3.10.0"
  }
 },
 "nbformat": 4,
 "nbformat_minor": 2
}
